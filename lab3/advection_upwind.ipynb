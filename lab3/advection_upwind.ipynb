{
 "cells": [
  {
   "cell_type": "markdown",
   "id": "80339956-b3c6-4129-a02d-64de0a53f1be",
   "metadata": {},
   "source": [
    "# AGH Modelling of Physical Systems Lab 3 (2025 March 18th)\n",
    "Sylwester Arabas (sylwester.arabas@agh.edu.pl)"
   ]
  },
  {
   "cell_type": "markdown",
   "id": "c73824e6-6946-4d30-824e-0e1467f4e06f",
   "metadata": {},
   "source": [
    "**1. advection PDE**\n",
    "\n",
    "Let's introduce a few symbols:   \n",
    "* ${\\color{red}t}$: time   \n",
    "* ${\\color{blue}x}$: physical coordinate (e.g., distance or altitude)   \n",
    "* ${\\color{green}\\psi}({\\color{blue}x})$: scalar field (e.g., pollutant concentration)   \n",
    "* ${\\color{brown}u}$: carrier velocity field (e.g., wind)   \n",
    "\n",
    "Transport of $\\color{green}\\psi$ due to advection by $\\color{brown}u$ can be modelled with the advection equation:\n",
    "$$ \\partial_{\\color{red} t} {\\color{green}\\psi} + \\partial_{\\color{blue}x} \\left({\\color{brown}u} {\\color{green}\\psi}\\right) = 0 $$\n",
    "\n",
    "For the special case of $\\partial_{\\color{blue}x} {\\color{brown}u}=0$, an analytical solution describing translation of the signal is readily available:\n",
    "$$ {\\color{green}\\psi}({\\color{blue}x}, {\\color{red}t})=\\psi_0({\\color{blue}x} - {\\color{brown}u}{\\color{red}t})$$\n",
    "where $\\psi_0({\\color{blue}x})={\\color{green}\\psi}({\\color{blue}x}, 0)$. \n",
    "\n",
    "Let's depict the problem using NumPy and matplotlib:"
   ]
  },
  {
   "cell_type": "code",
   "execution_count": 1,
   "id": "ed4d52c6-47b5-40f3-8ef4-43c13e405423",
   "metadata": {
    "execution": {
     "iopub.execute_input": "2025-03-18T16:03:21.779600Z",
     "iopub.status.busy": "2025-03-18T16:03:21.779312Z",
     "iopub.status.idle": "2025-03-18T16:03:22.344803Z",
     "shell.execute_reply": "2025-03-18T16:03:22.344320Z",
     "shell.execute_reply.started": "2025-03-18T16:03:21.779580Z"
    }
   },
   "outputs": [],
   "source": [
    "import numpy as np\n",
    "from matplotlib import pyplot"
   ]
  },
  {
   "cell_type": "code",
   "execution_count": 2,
   "id": "bd99e666-e6d3-4d92-a81a-72c6acec4a2b",
   "metadata": {
    "execution": {
     "iopub.execute_input": "2025-03-18T16:03:22.803122Z",
     "iopub.status.busy": "2025-03-18T16:03:22.802775Z",
     "iopub.status.idle": "2025-03-18T16:03:22.807004Z",
     "shell.execute_reply": "2025-03-18T16:03:22.806423Z",
     "shell.execute_reply.started": "2025-03-18T16:03:22.803103Z"
    }
   },
   "outputs": [],
   "source": [
    "class Psi_0:\n",
    "    def __init__(self):\n",
    "        self.x0 = 5\n",
    "        self.a = 1\n",
    "        self.sigma = 25\n",
    "    def __call__(self, x):\n",
    "        return self.a * np.exp(-(x-self.x0)**2 / 2 / self.sigma**2)"
   ]
  },
  {
   "cell_type": "code",
   "execution_count": 3,
   "id": "2c01a2a2-f2a5-4574-96d6-f3e6e75ae468",
   "metadata": {
    "execution": {
     "iopub.execute_input": "2025-03-18T16:04:40.166742Z",
     "iopub.status.busy": "2025-03-18T16:04:40.166148Z",
     "iopub.status.idle": "2025-03-18T16:04:40.169871Z",
     "shell.execute_reply": "2025-03-18T16:04:40.169360Z",
     "shell.execute_reply.started": "2025-03-18T16:04:40.166716Z"
    }
   },
   "outputs": [],
   "source": [
    "psi_0 = Psi_0()\n",
    "nx = 64\n",
    "x, dx = np.linspace(-100, 300, nx, endpoint=False, retstep=True)\n",
    "u = 2\n",
    "t_max = 50"
   ]
  },
  {
   "cell_type": "code",
   "execution_count": 4,
   "id": "b34d89ff-4b2c-49b0-a0ea-3969f9157d42",
   "metadata": {
    "execution": {
     "iopub.execute_input": "2025-03-18T16:04:41.140483Z",
     "iopub.status.busy": "2025-03-18T16:04:41.140225Z",
     "iopub.status.idle": "2025-03-18T16:04:41.248272Z",
     "shell.execute_reply": "2025-03-18T16:04:41.247777Z",
     "shell.execute_reply.started": "2025-03-18T16:04:41.140467Z"
    }
   },
   "outputs": [
    {
     "data": {
      "image/png": "[encoded data removed]",
      "text/plain": [
       "<Figure size 432x288 with 1 Axes>"
      ]
     },
     "metadata": {
      "needs_background": "light"
     },
     "output_type": "display_data"
    }
   ],
   "source": [
    "pyplot.plot(x, psi_0(x), label='initial')\n",
    "pyplot.plot(x, psi_0(x - u * t_max), label=f'analytical at {t_max=}')\n",
    "pyplot.legend()\n",
    "pyplot.grid()"
   ]
  },
  {
   "cell_type": "markdown",
   "id": "990932c6-6bc2-4b69-9b12-64bd89418a14",
   "metadata": {},
   "source": [
    "**2. overview of applications**\n",
    "\n",
    "* **computational fluid dynamics**: Navier-Stokes momentum equation ($\\psi$: fluid momentum)\n",
    "* **fluid thermodynamics**: energy conservation ($\\psi$: thermal energy)\n",
    "* **atmospheric modelling incl. weather prediction**: mass conservation ($\\psi$: humidity, rain, pollutants, ...)\n",
    "* **derivative pricing in financial mathematics**: Black-Scholes equation ($\\psi$: discounted value of a derivative instrument)\n",
    "* ..."
   ]
  },
  {
   "cell_type": "markdown",
   "id": "85cef3cf-c950-4ca3-a998-0016e55aa6e5",
   "metadata": {},
   "source": [
    "**3. simple numerical solution using the \"upwind\" scheme coded in Python**\n",
    "\n",
    "For cases where the velocity varies in space (and for many other more complex cases), numerical integration is the only way of solving the advection PDE. Among numerous numerical schemes for solving it, let's look at the basic [**upwind**](https://en.wikipedia.org/wiki/Upwind_scheme) solver: \n",
    "\n",
    "Let's consider the following discretisation of the problem:   \n",
    "* ${\\color{red}n} = \\frac{\\color{red}t}{\\Delta t} \\in 0, 1, \\ldots$   \n",
    "* ${\\color{blue}i} = \\frac{\\color{blue}x}{\\Delta x} \\in 0, 1, \\ldots$   \n",
    "* ${\\color{brown}C} = {\\color{brown}u}\\frac{\\Delta t}{\\Delta x}$ (so called Courant number)   \n",
    "* ${\\color{green}\\psi}_{\\color{blue}i}^{\\color{red}n}$: scalar field at \"grid cell\" $\\color{blue}i$ in space at time \"level\" ${\\color{red}n}$   \n",
    "\n",
    "The explicit (forward-in-time) upwind scheme is defined as:\n",
    "$$\n",
    "  {\\color{green}\\psi}^{{\\color{red}n}+1}_{\\color{blue}i} = {\\color{green}\\psi}^{\\color{red}n}_{\\color{blue}i} - \\left[F\\left({\\color{green}\\psi}^{\\color{red}n}_{\\color{blue}i},  {\\color{green}\\psi}^{\\color{red}n}_{{\\color{blue}i}+1}, {\\color{brown}C}\\right)-F\\left({\\color{green}\\psi}^{\\color{red}n}_{{\\color{blue}i}-1},{\\color{green}\\psi}^{\\color{red}n}_{\\color{blue}i}, {\\color{brown}C}\\right)\\right]\n",
    "$$\n",
    "$$F(\\psi_L, \\psi_R, C)=\\frac{C+|C|}{2}\\psi_L + \\frac{C-|C|}{2}\\psi_R$$"
   ]
  },
  {
   "cell_type": "markdown",
   "id": "54c41bcf-daf0-4929-a877-139d35fd8260",
   "metadata": {},
   "source": [
    "**4. upwind algorithm coded in Python/NumPy: functions and a useful structure**"
   ]
  },
  {
   "cell_type": "code",
   "execution_count": null,
   "id": "21817562-a7e9-4710-a408-ff91726d88f0",
   "metadata": {},
   "outputs": [],
   "source": []
  },
  {
   "cell_type": "markdown",
   "id": "b6a7cc2f-02e3-42db-89c9-ed218d0c02c2",
   "metadata": {},
   "source": [
    "**5. upwind algorithm coded in Python/NumPy: data/objects**"
   ]
  },
  {
   "cell_type": "code",
   "execution_count": null,
   "id": "0dec7cf7-8afe-455b-9f4b-66e896eda91b",
   "metadata": {},
   "outputs": [],
   "source": []
  },
  {
   "cell_type": "markdown",
   "id": "b4bed2f8-2ec1-4ff5-b911-3c5284cc2a80",
   "metadata": {},
   "source": [
    "**6. upwind algorithm coded in Python/NumPy: time-stepping loop**"
   ]
  },
  {
   "cell_type": "code",
   "execution_count": 18,
   "id": "4916e1a9-666d-46c4-952d-a3b26a8dd843",
   "metadata": {
    "execution": {
     "iopub.execute_input": "2025-03-18T16:57:29.907324Z",
     "iopub.status.busy": "2025-03-18T16:57:29.907006Z",
     "iopub.status.idle": "2025-03-18T16:57:29.914691Z",
     "shell.execute_reply": "2025-03-18T16:57:29.914116Z",
     "shell.execute_reply.started": "2025-03-18T16:57:29.907299Z"
    }
   },
   "outputs": [
    {
     "data": {
      "text/plain": [
       "array([1.47748360e-04, 1.47748360e-04, 1.47748360e-04, 1.47748360e-04,\n",
       "       1.47748360e-04, 1.47748364e-04, 1.47748418e-04, 1.47748985e-04,\n",
       "       1.47753864e-04, 1.47788452e-04, 1.47993357e-04, 1.49019277e-04,\n",
       "       1.53403075e-04, 1.69542921e-04, 2.21274999e-04, 3.67397320e-04,\n",
       "       7.36421623e-04, 1.58331573e-03, 3.37807555e-03, 6.93629946e-03,\n",
       "       1.35884267e-02, 2.53516055e-02, 4.50279647e-02, 7.61222387e-02,\n",
       "       1.22461885e-01, 1.87436591e-01, 2.72880256e-01, 3.77790447e-01,\n",
       "       4.97261212e-01, 6.22104915e-01, 7.39564584e-01, 8.35232831e-01,\n",
       "       8.95862533e-01, 9.12344896e-01, 8.81942863e-01, 8.09029058e-01,\n",
       "       7.04056541e-01, 5.81095361e-01, 4.54736636e-01, 3.37303731e-01,\n",
       "       2.37086629e-01, 1.57867988e-01, 9.95540998e-02, 5.94401758e-02,\n",
       "       3.35919921e-02, 1.79641369e-02, 9.08811021e-03, 4.34831384e-03,\n",
       "       1.96713245e-03, 8.41199861e-04, 3.39943977e-04, 1.29792671e-04,\n",
       "       4.68082353e-05, 1.59411957e-05, 5.12561551e-06, 1.55560901e-06,\n",
       "       4.45543214e-07, 1.20398966e-07, 3.06909810e-08, 7.37850533e-09,\n",
       "       1.67268111e-09, 3.57491357e-10, 1.87270255e-28, 1.07650286e-29])"
      ]
     },
     "execution_count": 18,
     "metadata": {},
     "output_type": "execute_result"
    }
   ],
   "source": [
    "psi = psi_0(x)\n",
    "nt = 20\n",
    "dt = t_max / nt\n",
    "C = u * (dt / dx)\n",
    "i = slice(1, nx - 2)\n",
    "\n",
    "class One:\n",
    "    def __radd__(self, o):\n",
    "        return slice(o.start + 1, o.stop + 1)\n",
    "\n",
    "    def __rsub__(self, o):\n",
    "        return slice(o.start - 1, o.stop - 1)\n",
    "\n",
    "one = One()\n",
    "\n",
    "def F(psiL, psiR, C):\n",
    "    return ((C + abs(C)) / 2) * psiL + ((C - abs(C)) / 2) * psiR\n",
    "\n",
    "for _ in range(nt):\n",
    "    psi[i] = psi[i] - (F(psi[i], psi[i + one], C) - F(psi[i - one], psi[i], C))\n",
    "\n",
    "psi"
   ]
  },
  {
   "cell_type": "markdown",
   "id": "940022cd-c039-4246-89de-7d24ba3de579",
   "metadata": {},
   "source": [
    "**7. comparing analytic and numerical solutions**"
   ]
  },
  {
   "cell_type": "code",
   "execution_count": 19,
   "id": "7088e23f-8ccf-43b7-b50a-0f51f40e536c",
   "metadata": {
    "execution": {
     "iopub.execute_input": "2025-03-18T16:57:32.291687Z",
     "iopub.status.busy": "2025-03-18T16:57:32.291134Z",
     "iopub.status.idle": "2025-03-18T16:57:32.384035Z",
     "shell.execute_reply": "2025-03-18T16:57:32.383526Z",
     "shell.execute_reply.started": "2025-03-18T16:57:32.291656Z"
    }
   },
   "outputs": [
    {
     "data": {
      "image/png": "[encoded data removed]",
      "text/plain": [
       "<Figure size 432x288 with 1 Axes>"
      ]
     },
     "metadata": {
      "needs_background": "light"
     },
     "output_type": "display_data"
    }
   ],
   "source": [
    "pyplot.step(x, psi_0(x), label='initial (discretised)', where='mid')\n",
    "pyplot.step(x, psi_0(x-u*t_max), label='analytical (discretised)', where='mid')\n",
    "pyplot.step(x, psi, label=f'numerical {nt=} {C=}', where='mid')\n",
    "pyplot.legend()\n",
    "pyplot.grid()"
   ]
  },
  {
   "cell_type": "code",
   "execution_count": null,
   "id": "2a8ff43f-6654-458e-98a9-2b21b832fff8",
   "metadata": {},
   "outputs": [],
   "source": []
  }
 ],
 "metadata": {
  "kernelspec": {
   "display_name": "Python 3 (ipykernel)",
   "language": "python",
   "name": "python3"
  },
  "language_info": {
   "codemirror_mode": {
    "name": "ipython",
    "version": 3
   },
   "file_extension": ".py",
   "mimetype": "text/x-python",
   "name": "python",
   "nbconvert_exporter": "python",
   "pygments_lexer": "ipython3",
   "version": "3.10.12"
  }
 },
 "nbformat": 4,
 "nbformat_minor": 5
}
