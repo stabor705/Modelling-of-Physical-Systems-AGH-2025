{
 "cells": [
  {
   "cell_type": "code",
   "execution_count": null,
   "metadata": {
    "vscode": {
     "languageId": "plaintext"
    }
   },
   "outputs": [],
   "source": [
    "\"\"\" notebook code targetting 100% `nbqa pylint` score! :) \"\"\"\n",
    "\n",
    "from types import SimpleNamespace\n",
    "import numpy as np\n",
    "from matplotlib import pyplot\n",
    "import scipy\n",
    "from open_atmos_jupyter_utils import show_plot"
   ]
  },
  {
   "cell_type": "code",
   "execution_count": null,
   "metadata": {
    "vscode": {
     "languageId": "plaintext"
    }
   },
   "outputs": [],
   "source": [
    "PARAMS_P = SimpleNamespace(\n",
    "    n_part=1000,\n",
    "    norm=1e10,\n",
    "    dist=scipy.stats.norm(loc=250, scale=50),\n",
    ")\n",
    "\n",
    "PARAMS_X = SimpleNamespace(\n",
    "    span=1000,\n",
    "    n_cell=50,\n",
    ")\n",
    "PARAMS_X.step = PARAMS_X.span / PARAMS_X.n_cell\n",
    "\n",
    "RNG = np.random.default_rng(seed=44)"
   ]
  }
 ],
 "metadata": {
  "language_info": {
   "name": "python"
  }
 },
 "nbformat": 4,
 "nbformat_minor": 2
}
